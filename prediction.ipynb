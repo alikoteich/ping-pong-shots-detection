{
 "cells": [
  {
   "cell_type": "code",
   "execution_count": 38,
   "id": "f4a80ef1",
   "metadata": {},
   "outputs": [],
   "source": [
    "import numpy as np\n",
    "import pandas as pd\n",
    "import matplotlib.pyplot as plt\n",
    "import tensorflow as tf\n",
    "%matplotlib inline"
   ]
  },
  {
   "cell_type": "code",
   "execution_count": 39,
   "id": "a58ad44c",
   "metadata": {},
   "outputs": [],
   "source": [
    "def create_array(num,df):\n",
    "    array = []\n",
    "    i = num\n",
    "    for i in range(i,i+10):\n",
    "        array.append(df['aX'].iloc[i])\n",
    "    i = num\n",
    "    for i in range(i,i+10):\n",
    "        array.append(df['aY'].iloc[i])\n",
    "    i = num\n",
    "    for i in range(i,i+10):\n",
    "        array.append(df['aZ'].iloc[i])\n",
    "    i = num\n",
    "    for i in range(i,i+10):\n",
    "        array.append(df['gX'].iloc[i])\n",
    "    i = num\n",
    "    for i in range(i,i+10):\n",
    "        array.append(df['gY'].iloc[i])\n",
    "    i = num\n",
    "    for i in range(i,i+10):\n",
    "        array.append(df['gZ'].iloc[i])\n",
    "    return array"
   ]
  },
  {
   "cell_type": "code",
   "execution_count": 40,
   "id": "474845eb",
   "metadata": {},
   "outputs": [],
   "source": [
    "def fill_data(size,df):\n",
    "    df_new = pd.read_csv('datasets/1x60_d_shots/header.csv')\n",
    "    i=0\n",
    "    j=0\n",
    "    while i <= size:\n",
    "        df_new = pd.DataFrame(np.insert(df_new.values,j,values=create_array(i,df),axis=0))\n",
    "        i = i + 10\n",
    "        j = j+1\n",
    "    return df_new"
   ]
  },
  {
   "cell_type": "code",
   "execution_count": 41,
   "id": "f1326585",
   "metadata": {},
   "outputs": [],
   "source": [
    "def record_capture(capture):\n",
    "    df_test = pd.read_csv('datasets/test_shots/'+capture+'.csv',header=None)\n",
    "    df_test.columns = ['aX','aY','aZ','gX','gY','gZ']\n",
    "    capt = fill_data(len(df_test)-1,df_test)\n",
    "    capt = np.asarray(capt).astype('float32')\n",
    "    \n",
    "    return capt"
   ]
  },
  {
   "cell_type": "code",
   "execution_count": 42,
   "id": "0dd3fc74",
   "metadata": {},
   "outputs": [],
   "source": [
    "def shot_name(result):\n",
    "    shots=[]\n",
    "    for i in range(0,len(result)):\n",
    "        if((result[i][0] == 1) & (result[i][1] == 1) & (result[i][2] == 0)):\n",
    "            shots.append('forehand topspin')\n",
    "        elif((result[i][0] == 0) & (result[i][1] == 1) & (result[i][2] == 0)):\n",
    "             shots.append('backhand topspin')\n",
    "        elif((result[i][0] == 1) & (result[i][1] == 0) & (result[i][2] == 0)):\n",
    "            shots.append('forehand slice')\n",
    "        elif((result[i][0] == 0) & (result[i][1] == 0) & (result[i][2] == 0)):\n",
    "             shots.append('backhand slice')\n",
    "        elif((result[i][2] == 1)):\n",
    "            shots.append('bad form')\n",
    "    return shots"
   ]
  },
  {
   "cell_type": "code",
   "execution_count": 43,
   "id": "1155d007",
   "metadata": {},
   "outputs": [],
   "source": [
    "def game_shots(result):\n",
    "    list=[]\n",
    "    for x in shot_name(result):\n",
    "        list.append(x)\n",
    "    return list"
   ]
  },
  {
   "cell_type": "code",
   "execution_count": 44,
   "id": "bfbab065",
   "metadata": {},
   "outputs": [],
   "source": [
    "def game_stats(game):\n",
    "    ft=fs=bt=bs=bf=0\n",
    "    list=[]\n",
    "    for i in range(0,len(game)):\n",
    "        if(game[i] == 'forehand topspin'):\n",
    "            ft = ft+1\n",
    "        elif(game[i] == 'forehand slice'):\n",
    "            fs = fs+1\n",
    "        elif(game[i] == 'backhand topspin'):\n",
    "            bt = bt+1\n",
    "        elif(game[i] == 'backhand slice'):\n",
    "            bs = bs+1\n",
    "        elif(game[i] == 'bad form'):\n",
    "            bf = bf+1\n",
    "    list.append(ft)\n",
    "    list.append(fs)\n",
    "    list.append(bt)\n",
    "    list.append(bs)\n",
    "    list.append(bf)\n",
    "    return list"
   ]
  },
  {
   "cell_type": "code",
   "execution_count": 45,
   "id": "a97dff03",
   "metadata": {},
   "outputs": [],
   "source": [
    "def dict_game_stats(shots_list):\n",
    "    list = []\n",
    "    list = shots_list\n",
    "    list = game_stats(list)\n",
    "    data = {}\n",
    "    data['forehand topspin']=list[0]\n",
    "    data['forehand slice']=list[1]\n",
    "    data['backhand topspin']=list[2]\n",
    "    data['backhand slice']=list[3]\n",
    "    data['bad form']=list[4]\n",
    "    return data"
   ]
  },
  {
   "cell_type": "code",
   "execution_count": 46,
   "id": "1bfff9f1",
   "metadata": {
    "scrolled": true
   },
   "outputs": [],
   "source": [
    "model = tf.keras.models.load_model('models/tt_project.h5')"
   ]
  },
  {
   "cell_type": "code",
   "execution_count": 47,
   "id": "5e62e9c7",
   "metadata": {},
   "outputs": [
    {
     "name": "stdout",
     "output_type": "stream",
     "text": [
      "Running on local URL:  http://127.0.0.1:7867\n",
      "\n",
      "To create a public link, set `share=True` in `launch()`.\n"
     ]
    },
    {
     "data": {
      "text/html": [
       "<div><iframe src=\"http://127.0.0.1:7867/\" width=\"100%\" height=\"500\" allow=\"autoplay; camera; microphone; clipboard-read; clipboard-write;\" frameborder=\"0\" allowfullscreen></iframe></div>"
      ],
      "text/plain": [
       "<IPython.core.display.HTML object>"
      ]
     },
     "metadata": {},
     "output_type": "display_data"
    },
    {
     "data": {
      "text/plain": []
     },
     "execution_count": 47,
     "metadata": {},
     "output_type": "execute_result"
    },
    {
     "name": "stdout",
     "output_type": "stream",
     "text": [
      "4/4 [==============================] - 0s 4ms/step\n"
     ]
    }
   ],
   "source": [
    "import gradio as gr\n",
    "def greet(file_name):\n",
    "    \n",
    "    capture = record_capture(file_name)\n",
    "    result = model.predict(capture)\n",
    "    result = np.rint(result)\n",
    "    data = dict_game_stats(game_shots(result))\n",
    "    myplot = plt.figure(figsize=(9,4))\n",
    "    plt.bar(data.keys(), data.values())\n",
    "    return myplot,pd.DataFrame(shot_name(result))\n",
    "iface = gr.Interface(fn=greet, inputs=\"text\", outputs=[\"plot\",\"dataframe\"])\n",
    "iface.launch()"
   ]
  },
  {
   "cell_type": "markdown",
   "id": "aa708b24",
   "metadata": {},
   "source": [
    "### The model misclassified 4 shots out of 100"
   ]
  }
 ],
 "metadata": {
  "kernelspec": {
   "display_name": "Python 3 (ipykernel)",
   "language": "python",
   "name": "python3"
  },
  "language_info": {
   "codemirror_mode": {
    "name": "ipython",
    "version": 3
   },
   "file_extension": ".py",
   "mimetype": "text/x-python",
   "name": "python",
   "nbconvert_exporter": "python",
   "pygments_lexer": "ipython3",
   "version": "3.9.13"
  }
 },
 "nbformat": 4,
 "nbformat_minor": 5
}
